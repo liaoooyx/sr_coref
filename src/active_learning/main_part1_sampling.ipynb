{
 "cells": [
  {
   "attachments": {},
   "cell_type": "markdown",
   "metadata": {},
   "source": [
    "# Active learning - part 1 - model inference (sampling)\n",
    "\n",
    "1. Run `Step 1: Model Inference and Data Sampling`\n",
    "2. Run `Step 2: Generate brat data for annotation`\n",
    "3. Run `Step 3: Send BRAT data to the BRAT server`\n",
    "4. Run `Step 4: Send notification to annotator via email`"
   ]
  },
  {
   "cell_type": "code",
   "execution_count": 1,
   "metadata": {},
   "outputs": [],
   "source": [
    "import sys\n",
    "sys.path.append(\"../../src/\")\n",
    "sys.path.append(\"../../../../git_clone_repos/fast-coref/src/\")"
   ]
  },
  {
   "cell_type": "code",
   "execution_count": 2,
   "metadata": {},
   "outputs": [],
   "source": [
    "from hydra import compose, initialize\n",
    "from omegaconf import OmegaConf\n",
    "\n",
    "config = None\n",
    "with initialize(version_base=None, config_path=\"../config\", job_name=\"active_learning\"):\n",
    "    config = compose(config_name=\"active_learning\")\n",
    "# print(OmegaConf.to_yaml(config))"
   ]
  },
  {
   "attachments": {},
   "cell_type": "markdown",
   "metadata": {},
   "source": [
    "## Step 1: Model Inference and Data Sampling"
   ]
  },
  {
   "cell_type": "code",
   "execution_count": 3,
   "metadata": {},
   "outputs": [
    {
     "name": "stderr",
     "output_type": "stream",
     "text": [
      "/home/yuxiangliao/anaconda3/envs/sr_coref/lib/python3.9/site-packages/torch/cuda/__init__.py:107: UserWarning: CUDA initialization: The NVIDIA driver on your system is too old (found version 10010). Please update your GPU driver by downloading and installing a new version from the URL: http://www.nvidia.com/Download/index.aspx Alternatively, go to: https://pytorch.org to install a PyTorch version that has been compiled with your version of the CUDA driver. (Triggered internally at ../c10/cuda/CUDAFunctions.cpp:109.)\n",
      "  return torch._C._cuda_getDeviceCount() > 0\n",
      "2023-05-22 00:41:48,623 - Processing section: findings\n",
      "10it [00:11,  1.19s/it]\n",
      "2023-05-22 00:42:00,525 - Processing section: impression\n",
      "10it [00:11,  1.20s/it]\n"
     ]
    }
   ],
   "source": [
    "import time\n",
    "from collections import defaultdict\n",
    "from active_learning.sampling import model_inference, sampling_topk_doc_by_MDE, log_runtime_info\n",
    "from active_learning.utils import get_previous_labeled_pool_dict, remove_labeled_data_from_sampling_dict\n",
    "\n",
    "# Average sampling from each section\n",
    "target_sections = [\"findings\", \"impression\"]\n",
    "sampling_nums = {\n",
    "    \"findings\": config.sampling_num // 2,\n",
    "    \"impression\": config.sampling_num - (config.sampling_num // 2),\n",
    "}\n",
    "startTime = time.time()\n",
    "log_dict = defaultdict(dict)\n",
    "\n",
    "#####\n",
    "# Here's the main functions\n",
    "extra_info_dict = model_inference(config, target_sections, log_dict)\n",
    "\n",
    "## Remove previous sampled doc records from `extra_info_dict`\n",
    "previous_sampled_doc_dict = get_previous_labeled_pool_dict(config)\n",
    "if previous_sampled_doc_dict is not None:\n",
    "    remove_labeled_data_from_sampling_dict(previous_sampled_doc_dict, extra_info_dict)\n",
    "\n",
    "curr_sampled_doc_dict = sampling_topk_doc_by_MDE(extra_info_dict, sampling_nums, log_dict)\n",
    "#####\n",
    "\n",
    "# Save labeled pool info\n",
    "with open(config.output.log.labeled_pool_info_file, \"w\", encoding=\"utf-8\") as f:\n",
    "    if previous_sampled_doc_dict is not None:\n",
    "        for section_name, doc_list in previous_sampled_doc_dict.items():\n",
    "            f.write(\"\\n\".join([f\"{section_name}/{doc_name}\" for doc_name in doc_list]))\n",
    "            f.write(\"\\n\")\n",
    "    for section_name, doc_list in curr_sampled_doc_dict.items():\n",
    "        f.write(\"\\n\".join([f\"{section_name}/{doc_name}\" for doc_name in doc_list]))\n",
    "        f.write(\"\\n\")\n",
    "\n",
    "log_out = log_runtime_info(config, log_dict, startTime)"
   ]
  },
  {
   "attachments": {},
   "cell_type": "markdown",
   "metadata": {},
   "source": [
    "## Step 2: Generate brat data for annotation"
   ]
  },
  {
   "cell_type": "code",
   "execution_count": 4,
   "metadata": {},
   "outputs": [
    {
     "name": "stdout",
     "output_type": "stream",
     "text": [
      "Data for BRAT annotation has been created to: \n",
      " /home/yuxiangliao/PhD/workspace/VSCode_workspace/str_rep_coref/output/mimic_cxr/active_learning/iter_1/brat_unfinished\n"
     ]
    }
   ],
   "source": [
    "from active_learning.process_brat_annotation import prepare_brat, copy_brat_configs\n",
    "\n",
    "brat_output_dir = prepare_brat(config, curr_sampled_doc_dict)\n",
    "copy_brat_configs(config.brat_config.base_dir, brat_output_dir)\n",
    "\n",
    "print(\"Data for BRAT annotation has been created to: \\n\", brat_output_dir)"
   ]
  },
  {
   "attachments": {},
   "cell_type": "markdown",
   "metadata": {},
   "source": [
    "## Step 3: Send BRAT data to the BRAT server"
   ]
  },
  {
   "cell_type": "code",
   "execution_count": 5,
   "metadata": {},
   "outputs": [
    {
     "name": "stderr",
     "output_type": "stream",
     "text": [
      "2023-05-22 00:43:33,144 - Connected (version 2.0, client OpenSSH_8.2p1)\n",
      "2023-05-22 00:43:34,083 - Authentication (publickey) failed.\n",
      "2023-05-22 00:43:34,461 - Authentication (password) successful!\n",
      "2023-05-22 00:43:35,243 - [chan 0] Opened sftp connection (server version 3)\n",
      "100%|██████████| 2/2 [00:01<00:00,  1.28it/s]\n",
      "100%|██████████| 10/10 [00:08<00:00,  1.23it/s]\n",
      "100%|██████████| 10/10 [00:07<00:00,  1.33it/s]\n",
      "3it [00:18,  6.02s/it]\n",
      "2023-05-22 00:43:54,044 - [chan 0] sftp session closed.\n"
     ]
    }
   ],
   "source": [
    "import os\n",
    "from active_learning.communicate_brat_server import RemoteConnection\n",
    "\n",
    "brat_unfinished_dir = config.output.brat.unfinished_dir\n",
    "brat_server_dir = config.remote_server.brat.data_dir\n",
    "\n",
    "hostname = config.remote_server.brat.hostname\n",
    "username = config.remote_server.brat.username\n",
    "password = config.remote_server.brat.password\n",
    "connection = RemoteConnection(hostname, username, password)\n",
    "connection.put_all(\n",
    "    brat_unfinished_dir,\n",
    "    brat_server_dir,\n",
    ")\n",
    "\n",
    "base_name_old = os.path.basename(brat_unfinished_dir)\n",
    "base_name_new = f\"iter_{config.current_iter}\"\n",
    "connection.rename(os.path.join(brat_server_dir, base_name_old), os.path.join(brat_server_dir, base_name_new))\n",
    "connection.close_client()"
   ]
  },
  {
   "attachments": {},
   "cell_type": "markdown",
   "metadata": {},
   "source": [
    "## Step 4: Send notification to annotator via email"
   ]
  },
  {
   "cell_type": "code",
   "execution_count": 6,
   "metadata": {},
   "outputs": [
    {
     "name": "stdout",
     "output_type": "stream",
     "text": [
      "successfully sent the mail.\n"
     ]
    }
   ],
   "source": [
    "import smtplib\n",
    "from email.mime.text import MIMEText\n",
    "\n",
    "\n",
    "def send_mail(to_emails: list, content: str, subject=\"VISA slot available\",\n",
    "              server='smtp.qq.com', from_email='', password=''):\n",
    "\n",
    "    message = MIMEText(content, 'plain', 'utf-8')  # 内容, 格式, 编码\n",
    "    message['From'] = from_email\n",
    "    message['To'] = \",\".join(to_emails)\n",
    "    message['Subject'] = subject\n",
    "\n",
    "    try:\n",
    "        server = smtplib.SMTP_SSL(\"smtp.qq.com\", 465)\n",
    "        server.login(from_email, password)\n",
    "        server.sendmail(from_email, from_email, message.as_string())\n",
    "        server.quit()\n",
    "        print('successfully sent the mail.')\n",
    "    except smtplib.SMTPException as e:\n",
    "        print(e)\n",
    "        \n",
    "        \n",
    "content = f\"BRAT is ready for iter_{config.current_iter}, sampling_num: {config.sampling_num}\"\n",
    "send_mail(['to email you want to send'], content=content, subject=content)\n"
   ]
  }
 ],
 "metadata": {
  "kernelspec": {
   "display_name": "sr_coref",
   "language": "python",
   "name": "python3"
  },
  "language_info": {
   "codemirror_mode": {
    "name": "ipython",
    "version": 3
   },
   "file_extension": ".py",
   "mimetype": "text/x-python",
   "name": "python",
   "nbconvert_exporter": "python",
   "pygments_lexer": "ipython3",
   "version": "3.9.16"
  },
  "orig_nbformat": 4
 },
 "nbformat": 4,
 "nbformat_minor": 2
}
