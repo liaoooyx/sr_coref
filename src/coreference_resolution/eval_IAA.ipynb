{
 "cells": [
  {
   "cell_type": "markdown",
   "metadata": {},
   "source": [
    "# Inter-annotator agreement for coreference annotation\n",
    "\n",
    "Algorithms: \"Passonneau, 2004, Computing Reliability for Coreference Annotation\" and \"Krippendorff's alpha\"\n",
    "\n",
    "Krippendorff’s alpha is fundamentally a Kappa-like metric. Its values range from -1 to 1, with 1 representing unanimous agreement between the raters, 0 indicating they’re guessing randomly, and negative values suggesting the raters are systematically disagreeing. \n",
    "\n",
    "(This can happen when raters value different things — for example, if rater A thinks a crowded store is a sign of success, but rater B thinks it proves understaffing and poor management). "
   ]
  },
  {
   "cell_type": "markdown",
   "metadata": {},
   "source": [
    "## Prepare"
   ]
  },
  {
   "cell_type": "code",
   "execution_count": 79,
   "metadata": {},
   "outputs": [],
   "source": [
    "import sys\n",
    "sys.path.append(\"../../src\")\n",
    "\n",
    "import os\n",
    "from tqdm import tqdm\n",
    "import pandas as pd\n",
    "import numpy as np\n",
    "import matplotlib.pyplot as plt\n",
    "import matplotlib as mpl\n",
    "from collections import defaultdict\n",
    "\n",
    "from IPython.display import display, HTML\n",
    "# display(HTML(df.to_html()))\n",
    "\n",
    "from concurrent.futures import ProcessPoolExecutor, as_completed\n",
    "from multiprocessing import Event\n",
    "from common_utils.data_loader_utils import load_mimic_cxr_bySection\n",
    "from common_utils.coref_utils import resolve_mention_and_group_num\n",
    "from common_utils.file_checker import FileChecker\n",
    "from common_utils.common_utils import check_and_create_dirs, check_and_remove_dirs\n",
    "\n",
    "FILE_CHECKER = FileChecker()\n",
    "START_EVENT = Event()\n",
    "\n",
    "mpl.style.use(\"default\")\n",
    "\n",
    "SMALL_SIZE = 12\n",
    "MEDIUM_SIZE = 14\n",
    "BIGGER_SIZE = 16\n",
    "\n",
    "plt.rc('font', size=SMALL_SIZE)          # controls default text sizes\n",
    "plt.rc('axes', titlesize=SMALL_SIZE)     # fontsize of the axes title\n",
    "plt.rc('axes', labelsize=MEDIUM_SIZE)    # fontsize of the x and y labels\n",
    "plt.rc('xtick', labelsize=SMALL_SIZE)    # fontsize of the tick labels\n",
    "plt.rc('ytick', labelsize=SMALL_SIZE)    # fontsize of the tick labels\n",
    "plt.rc('legend', fontsize=SMALL_SIZE)    # legend fontsize\n",
    "plt.rc('figure', titlesize=BIGGER_SIZE)  # fontsize of the figure title"
   ]
  },
  {
   "cell_type": "code",
   "execution_count": 80,
   "metadata": {},
   "outputs": [],
   "source": [
    "from hydra import compose, initialize\n",
    "from omegaconf import OmegaConf\n",
    "\n",
    "config = None\n",
    "with initialize(version_base=None, config_path=\"../config\", job_name=\"nlp_ensemble\"):\n",
    "        config = compose(config_name=\"coreference_resolution\", overrides=[\"+nlp_ensemble@_global_=mimic_cxr\"])"
   ]
  },
  {
   "cell_type": "code",
   "execution_count": 81,
   "metadata": {},
   "outputs": [],
   "source": [
    "from krippendorff import alpha\n",
    "import numpy as np\n",
    "from typing import Any"
   ]
  },
  {
   "cell_type": "markdown",
   "metadata": {},
   "source": [
    "## Example 1\n",
    "\n",
    "Example from \"Passonneau, 2004, Computing Reliability for Coreference Annotation\"\n",
    "\n",
    "The results reported in Passonneau:\n",
    "- Unweighted Krippendroff's alpha: 0.45 (Our:0.45)\n",
    "- Weighted Krippendroff's alpha: 0.74 (Our:0.76)"
   ]
  },
  {
   "cell_type": "code",
   "execution_count": 82,
   "metadata": {},
   "outputs": [
    {
     "name": "stdout",
     "output_type": "stream",
     "text": [
      "Unweighted Krippendroff's alpha: 0.449541\n",
      "Weighted Krippendroff's alpha: 0.763529\n"
     ]
    }
   ],
   "source": [
    "reliability_data =[\n",
    "    [1,2,4,1,2,2,6,4,6,6,2],\n",
    "    [1,2,5,1,2,2,7,9,10,7,2],\n",
    "    [1,2,3,1,2,2,8,3,3,3,2]\n",
    "]\n",
    "\n",
    "w = \"\"\"0\t1\t1\t1\t1\t1\t1\t1\t1\t1\n",
    "1\t0\t1\t1\t1\t1\t1\t1\t1\t1\n",
    "1\t1\t0\t0.33\t0.33\t0.67\t0.67\t1\t0.33\t0.33\n",
    "1\t1\t0.33\t0\t0.33\t1\t1\t1\t0.33\t1\n",
    "1\t1\t0.33\t0.33\t0\t1\t1\t1\t1\t1\n",
    "1\t1\t0.67\t1\t1\t0\t0.33\t0.33\t1\t0.33\n",
    "1\t1\t0.67\t1\t1\t0.33\t0\t0.33\t1\t1\n",
    "1\t1\t1\t1\t1\t0.33\t0.33\t0\t1\t1\n",
    "1\t1\t0.33\t0.33\t1\t1\t1\t1\t0\t1\n",
    "1\t1\t0.33\t1\t1\t0.33\t1\t1\t1\t0\"\"\"\n",
    "weights = np.array([[np.float64(cell) if cell else np.float64(0) for cell in row.split(\"\\t\")] for row in w.split(\"\\n\")])\n",
    "\n",
    "def weight_matrix(v1: np.ndarray, v2: np.ndarray, dtype: Any = np.float64, **kwargs) -> np.ndarray:  # noqa\n",
    "    \"\"\" A matirx of weights for nominal label pairs \"\"\"\n",
    "    return weights.astype(dtype)\n",
    "\n",
    "print(\"Unweighted Krippendroff's alpha:\",round(alpha(reliability_data=reliability_data, level_of_measurement=\"nominal\"), 6))\n",
    "print(\"Weighted Krippendroff's alpha:\",round(alpha(reliability_data=reliability_data, level_of_measurement=weight_matrix), 6))"
   ]
  },
  {
   "cell_type": "markdown",
   "metadata": {},
   "source": [
    "## Example 2\n",
    "\n",
    "Example from http://en.wikipedia.org/wiki/Krippendorff's_Alpha\\\n",
    "\n",
    "Use np.nan for category like “cannot code,” “no answer,” or “lacking an observation.”"
   ]
  },
  {
   "cell_type": "code",
   "execution_count": 83,
   "metadata": {},
   "outputs": [
    {
     "name": "stdout",
     "output_type": "stream",
     "text": [
      "[[nan, nan, nan, nan, nan, 3, 4, 1, 2, 1, 1, 3, 3, nan, 3], [1, nan, 2, 1, 3, 3, 4, 3, nan, nan, nan, nan, nan, nan, nan], [nan, nan, 2, 1, 3, 4, 4, nan, 2, 1, 1, 3, 3, nan, 4]] \n",
      "\n",
      "nominal Krippendroff's alpha: 0.691358\n",
      "ordinal Krippendroff's alpha: 0.806721\n",
      "interval Krippendroff's alpha: 0.810845\n",
      "ratio Krippendroff's alpha: 0.808944\n"
     ]
    }
   ],
   "source": [
    "reliability_data = (\n",
    "    \"*    *    *    *    *    3    4    1    2    1    1    3    3    *    3\", # coder A\n",
    "    \"1    *    2    1    3    3    4    3    *    *    *    *    *    *    *\", # coder B\n",
    "    \"*    *    2    1    3    4    4    *    2    1    1    3    3    *    4\", # coder C\n",
    ")\n",
    "reliability_data = [d.split() for d in reliability_data]  # convert to 2D list of string items\n",
    "reliability_data = [[int(cell) if cell!=\"*\" else np.nan for cell in row] for row in reliability_data]\n",
    "print(reliability_data, \"\\n\")\n",
    "\n",
    "print(\"nominal Krippendroff's alpha:\",round(alpha(reliability_data=reliability_data, level_of_measurement=\"nominal\"), 6))\n",
    "print(\"ordinal Krippendroff's alpha:\",round(alpha(reliability_data=reliability_data, level_of_measurement=\"ordinal\"), 6))\n",
    "print(\"interval Krippendroff's alpha:\",round(alpha(reliability_data=reliability_data, level_of_measurement=\"interval\"), 6))\n",
    "print(\"ratio Krippendroff's alpha:\",round(alpha(reliability_data=reliability_data, level_of_measurement=\"ratio\"), 6))"
   ]
  },
  {
   "cell_type": "markdown",
   "metadata": {},
   "source": [
    "## Resolve BRAT output"
   ]
  },
  {
   "attachments": {},
   "cell_type": "markdown",
   "metadata": {},
   "source": [
    "Manual:\n",
    "- ../../output/brat_annotation/round2_merged_new\n",
    "- ../../output/brat_annotation/MIMIC_manual_Hantao\n",
    "- ../../output/brat_annotation/MIMIC_manual_Irena\n",
    "\n",
    "Semiauto:\n",
    "- ../../output/brat_annotation/round3_merged_new\n",
    "- ../../output/brat_annotation/MIMIC_semiauto_Hantao\n",
    "- ../../output/brat_annotation/MIMIC_semiauto_Irena\n",
    "\n"
   ]
  },
  {
   "cell_type": "code",
   "execution_count": 84,
   "metadata": {},
   "outputs": [],
   "source": [
    "### Modify ###\n",
    "# Should not end with \"/\"\n",
    "# brat_source_dirs = [\"../../output/brat_annotation/round1_IS/\",\n",
    "#                     \"../../output/brat_annotation/round1_merged_new\"]\n",
    "brat_source_dirs = [\"../../output/brat_annotation/MIMIC_manual_Hantao\",\n",
    "                    \"../../output/brat_annotation/round2_merged_new\"]\n"
   ]
  },
  {
   "cell_type": "code",
   "execution_count": 85,
   "metadata": {},
   "outputs": [],
   "source": [
    "def find_sub_list(sublist,source_list) -> tuple[int,int]:\n",
    "    \"\"\" Returns: start index, end index (inclusive) \"\"\"\n",
    "    sll=len(sublist)\n",
    "    for ind in (i for i,e in enumerate(source_list) if e==sublist[0]):\n",
    "        if source_list[ind:ind+sll]==sublist:\n",
    "            return ind,ind+sll-1"
   ]
  },
  {
   "cell_type": "code",
   "execution_count": 86,
   "metadata": {},
   "outputs": [],
   "source": [
    "class BratMention:\n",
    "    def __init__(self,uid,brat_id,start,end, mention_str) -> None:\n",
    "        self.uid = uid # {section_name}_{doc_id} \n",
    "        self.brat_id = brat_id\n",
    "        self.tok_start = start\n",
    "        self.tok_end = end # Not inclusive\n",
    "        self.mention_str = mention_str\n",
    "    \n",
    "    def __eq__(self, __o: object) -> bool:\n",
    "        if isinstance(__o, BratMention):\n",
    "            return self.tok_start == __o.tok_start and self.tok_end == __o.tok_end and self.uid == __o.uid\n",
    "        elif isinstance(__o, str) and __o.startswith(\"T\"):\n",
    "            return self.brat_id == __o\n",
    "\n",
    "    def __hash__(self) -> int:\n",
    "        return self.tok_start.__hash__() + self.tok_end.__hash__()\n",
    "    \n",
    "    def __repr__(self) -> str:\n",
    "        return self.__str__()\n",
    "\n",
    "    def __str__(self) -> str:\n",
    "        return f\"{self.mention_str}({self.brat_id})({self.tok_start}-{self.tok_end})({self.uid})\"\n",
    "        \n",
    "        \n",
    "class BratCorefGroup:\n",
    "    def __init__(self) -> None:\n",
    "        self.coreference_list:list[BratCoreference] = []\n",
    "        self.mention_list:list[BratMention] = []\n",
    "\n",
    "    def add(self, ment_a:BratMention, ment_b:BratMention):\n",
    "        to_be_merged_idxs = set()\n",
    "        for group_id, _brat_coref_obj in enumerate(self.coreference_list):\n",
    "            if _brat_coref_obj.hasMention(ment_a) or _brat_coref_obj.hasMention(ment_b):\n",
    "                to_be_merged_idxs.add(group_id)\n",
    "                _brat_coref_obj.update([ment_a,ment_b])\n",
    "                \n",
    "        if len(to_be_merged_idxs) == 0:\n",
    "            # Not exist in curr group, thus create a new BratCoreference\n",
    "            self.coreference_list.append(BratCoreference({ment_a,ment_b}))\n",
    "        elif len(to_be_merged_idxs) > 1:\n",
    "            # Exist in multiple groups, thus need to merge\n",
    "            new_coref_set = set()\n",
    "            to_be_removed = list(to_be_merged_idxs.copy())\n",
    "            while to_be_merged_idxs:\n",
    "                old_coref_set = self.coreference_list[to_be_merged_idxs.pop()].mention_set\n",
    "                new_coref_set = new_coref_set.union(old_coref_set)\n",
    "            for index in sorted(to_be_removed, reverse=True):\n",
    "                del self.coreference_list[index]\n",
    "            self.coreference_list.append(BratCoreference(new_coref_set))\n",
    "\n",
    "    def __str__(self) -> str:\n",
    "        out = []\n",
    "        for coref_obj in self.coreference_list:\n",
    "            out.append(\"\\n\".join(map(str, coref_obj.mention_set)))\n",
    "        return \"\\n\\n\".join(out)\n",
    "        \n",
    "    \n",
    "class BratCoreference:\n",
    "    def __init__(self, mentionSet:set) -> None:\n",
    "        self.aggregrate_id = None\n",
    "        self.mention_set:set[BratMention] = mentionSet\n",
    "        \n",
    "    def hasMention(self, mention_x):\n",
    "        return mention_x in self.mention_set\n",
    "    \n",
    "    def update(self, elements):\n",
    "        self.mention_set.update(elements)\n",
    "        \n",
    "    def __eq__(self, __o: object) -> bool:\n",
    "        if isinstance(__o, BratCoreference):\n",
    "            return self.mention_set == __o.mention_set\n",
    "        return False\n",
    "\n",
    "    def __hash__(self) -> int:\n",
    "        hash_value = 0\n",
    "        for mention in self.mention_set:\n",
    "            hash_value += hash(mention)\n",
    "        return hash_value\n",
    "    \n",
    "    def __str__(self) -> str:\n",
    "        return \"|\".join(map(str, self.mention_set))\n",
    "\n",
    "    def __repr__(self) -> str:\n",
    "        return self.__str__()"
   ]
  },
  {
   "cell_type": "code",
   "execution_count": 87,
   "metadata": {},
   "outputs": [],
   "source": [
    "def resolve_brat_file(ann_file_list,section_name=\"\",doc_id=\"\") -> tuple[list[BratMention],BratCorefGroup]:\n",
    "    mention_list:list[BratMention] = []\n",
    "    bratCorefGroup_obj = BratCorefGroup()\n",
    "    for line in [line.strip() for line in ann_file_list]:\n",
    "        line_info_list = line.split(\"\\t\")\n",
    "        # print(line_info_list)\n",
    "        if line[0] == \"T\":\n",
    "            # Mention\n",
    "            mention_id = line_info_list[0]\n",
    "            ment_start = line_info_list[1].split(\" \")[1]\n",
    "            ment_end = line_info_list[1].split(\" \")[-1]\n",
    "            mention_str = line_info_list[2]\n",
    "            uid = section_name+\"_\"+doc_id\n",
    "            mention_list.append(BratMention(uid,mention_id,ment_start,ment_end, mention_str))\n",
    "        elif line[0] == \"R\":\n",
    "            # relation\n",
    "            relation_id = line_info_list[0]\n",
    "            mention_a_id = line_info_list[1].split(\" \")[1].split(\":\")[-1]\n",
    "            mention_b_id = line_info_list[1].split(\" \")[2].split(\":\")[-1]\n",
    "            mention_a = mention_list[mention_list.index(mention_a_id)]\n",
    "            mention_b = mention_list[mention_list.index(mention_b_id)]\n",
    "            bratCorefGroup_obj.add(mention_a, mention_b)\n",
    "    return mention_list, bratCorefGroup_obj"
   ]
  },
  {
   "cell_type": "code",
   "execution_count": 88,
   "metadata": {},
   "outputs": [],
   "source": [
    "def get_reliability_data(aggregrated_mentions, annotator_output_dict, aggregrated_coreferences, use_single_coding=False) -> list[list[int]]:\n",
    "    \"\"\" If use single coding, the np.nan will be replace by a new norminal id.\n",
    "    e.g. Use np.nan: [0,0,1,1,nan,2,2]; use single_coding: [0,0,1,1,3,2,2]\n",
    "    \"\"\"\n",
    "    reliability_data:list[list[int]] = []\n",
    "    for annotator, bratCorefGroup_obj_list in annotator_output_dict.items():\n",
    "        reliability_data_row:list[int] = []\n",
    "        annotator_mention_list = [_mention_obj for bratCorefGroup_obj in bratCorefGroup_obj_list for _mention_obj in bratCorefGroup_obj.mention_list]\n",
    "        annotator_coref_list = [_coref_obj for bratCorefGroup_obj in bratCorefGroup_obj_list for _coref_obj in bratCorefGroup_obj.coreference_list]\n",
    "        for mention_obj in sorted(aggregrated_mentions, key=lambda x: x.uid):\n",
    "            cell_value = np.nan\n",
    "            if mention_obj in annotator_mention_list:\n",
    "                # Find out that the mention belongs to which coref_obj\n",
    "                for coref_obj in annotator_coref_list:\n",
    "                    if coref_obj.hasMention(mention_obj):\n",
    "                        cell_value = coref_obj.aggregrate_id\n",
    "            # Replace nan with a new coding (consider mention as a coref singleton)\n",
    "            if np.isnan(cell_value) and use_single_coding:\n",
    "                brat_coref_obj = BratCoreference({mention_obj})\n",
    "                brat_coref_obj.aggregrate_id = len(aggregrated_coreferences)\n",
    "                cell_value = len(aggregrated_coreferences)\n",
    "                aggregrated_coreferences.add(brat_coref_obj)\n",
    "                \n",
    "            reliability_data_row.append(cell_value)\n",
    "        reliability_data.append(reliability_data_row)\n",
    "    return reliability_data"
   ]
  },
  {
   "cell_type": "code",
   "execution_count": 89,
   "metadata": {},
   "outputs": [],
   "source": [
    "def get_weights(aggregrated_coreferences) -> list[list[float]]:\n",
    "    weights_2dList:list[list[float]] = []\n",
    "    for coref_obj_row in sorted(aggregrated_coreferences,key=lambda x: x.aggregrate_id):\n",
    "        weights_row:list[float] = []\n",
    "        for coref_obj_col in sorted(aggregrated_coreferences,key=lambda x: x.aggregrate_id):\n",
    "            weight = None\n",
    "            if coref_obj_col == coref_obj_row:\n",
    "                weight = 0\n",
    "            elif coref_obj_col.mention_set.issubset(coref_obj_row.mention_set) or coref_obj_col.mention_set.issuperset(coref_obj_row.mention_set):\n",
    "                weight = 0.33\n",
    "            elif not coref_obj_col.mention_set.isdisjoint(coref_obj_row.mention_set):\n",
    "                weight = 0.67\n",
    "            else:\n",
    "                weight = 1\n",
    "            weights_row.append(weight)\n",
    "        weights_2dList.append(weights_row)\n",
    "    return weights_2dList"
   ]
  },
  {
   "cell_type": "markdown",
   "metadata": {},
   "source": [
    "Compute the alpha for each document, and then get the mean of alphas\n",
    "\n",
    "There are two option when computing the alpha:\n",
    "1. Use np.nan for mention that are not observed ->  get_reliability_data(... use_single_coding=False)\n",
    "2. Consider the mention as a singleton of coreference -> get_reliability_data(... use_single_coding=True)\n",
    "\n"
   ]
  },
  {
   "cell_type": "code",
   "execution_count": 90,
   "metadata": {},
   "outputs": [
    {
     "name": "stdout",
     "output_type": "stream",
     "text": [
      "Unweighted Krippendroff's alpha: 0.229023\n",
      "Weighted Krippendroff's alpha: 0.71748\n"
     ]
    }
   ],
   "source": [
    "annotator_output_dict:dict[str,list[BratCorefGroup]] = defaultdict(list)\n",
    "aggregrated_mentions:set[BratMention] = set()\n",
    "aggregrated_coreferences:set[BratCoreference] = set()\n",
    "\n",
    "for section_name in [\"findings\",\"impression\"]:\n",
    "    dir_for_docid = os.path.join(brat_source_dirs[0], section_name)\n",
    "    for doc_id in [f.rstrip(\".txt\") for f in FILE_CHECKER.filter(os.listdir(dir_for_docid)) if \".txt\" in f]:\n",
    "        # if doc_id != \"s50873220\" or section_name != \"findings\":\n",
    "        #     continue\n",
    "        \n",
    "        # Aggregrate the outputs of multiple annotators\n",
    "        for brat_source_dir in brat_source_dirs:\n",
    "            annotator = os.path.basename(brat_source_dir)\n",
    "            brat_dir = os.path.join(brat_source_dir, section_name)\n",
    "            \n",
    "            # brat outputs\n",
    "            with open(os.path.join(brat_dir, doc_id+\".txt\"), \"r\", encoding=\"UTF-8\") as f:\n",
    "                txt_file_str = \"\".join(f.readlines())\n",
    "            with open(os.path.join(brat_dir, doc_id+\".ann\"), \"r\", encoding=\"UTF-8\") as f:\n",
    "                ann_file_list = f.readlines()\n",
    "            \n",
    "            # Resolve brat files\n",
    "            mention_list, bratCorefGroup_obj = resolve_brat_file(ann_file_list, section_name, doc_id)\n",
    "            \n",
    "            bratCorefGroup_obj.mention_list = mention_list\n",
    "            annotator_output_dict[annotator].append(bratCorefGroup_obj)\n",
    "            aggregrated_mentions.update(mention_list)\n",
    "            aggregrated_coreferences.update(bratCorefGroup_obj.coreference_list)\n",
    "\n",
    "        \n",
    "# Assign id to BratCoreference\n",
    "for coref_id, _bratCoref_obj in enumerate(aggregrated_coreferences):\n",
    "    _bratCoref_obj.aggregrate_id = coref_id\n",
    "    # The _bratCoref_obj are different class objects in annotator_output_dict. We need to replace them with the same one.\n",
    "    for annotator, bratCorefGroup_obj_list in annotator_output_dict.items():\n",
    "        for bratCorefGroup_obj in bratCorefGroup_obj_list:\n",
    "            try:\n",
    "                idx = bratCorefGroup_obj.coreference_list.index(_bratCoref_obj)\n",
    "                bratCorefGroup_obj.coreference_list[idx] = _bratCoref_obj\n",
    "            except ValueError:\n",
    "                pass\n",
    "\n",
    "reliability_data:list[list[int]] = get_reliability_data(aggregrated_mentions, annotator_output_dict, aggregrated_coreferences, use_single_coding=True)\n",
    "\n",
    "weights_2dList:list[list[float]] = get_weights(aggregrated_coreferences)\n",
    "weights_np = np.array(weights_2dList)\n",
    "def weight_matrix(v1: np.ndarray, v2: np.ndarray, dtype: Any = np.float64, **kwargs) -> np.ndarray:  # noqa\n",
    "    \"\"\" A matirx of weights for nominal label pairs \"\"\"\n",
    "    return weights_np.astype(dtype)\n",
    "\n",
    "\n",
    "print(\"Unweighted Krippendroff's alpha:\",round(alpha(reliability_data=reliability_data, level_of_measurement=\"nominal\"), 6))\n",
    "print(\"Weighted Krippendroff's alpha:\",round(alpha(reliability_data=reliability_data, level_of_measurement=weight_matrix), 6))"
   ]
  },
  {
   "cell_type": "code",
   "execution_count": null,
   "metadata": {},
   "outputs": [],
   "source": []
  },
  {
   "cell_type": "markdown",
   "metadata": {},
   "source": [
    "### Check the intermediate data for calculation"
   ]
  },
  {
   "cell_type": "code",
   "execution_count": 91,
   "metadata": {},
   "outputs": [
    {
     "name": "stdout",
     "output_type": "stream",
     "text": [
      "The canonical form of reliability data:\n",
      "MIMIC_manual_Hantao [239, 240, 241, 242, 243, 244, 245, 186, 186, 246, 247, 199, 199, 248, 249, 250, 251, 252, 253, 254, 255, 256, 257, 66, 232, 66, 66, 232, 258, 259, 33, 33, 142, 89, 260, 261, 142, 89, 262, 263, 142, 264, 265, 266, 267, 268, 269, 270, 271, 272, 273, 274, 275, 85, 276, 277, 85, 278, 279, 280, 281, 282, 283, 284, 285, 286, 287, 288, 174, 289, 174, 290, 291, 95, 95, 292, 293, 294, 295, 296, 297, 130, 130, 130, 298, 299, 300, 301, 302, 161, 161, 226, 303, 304, 226, 305, 306, 307, 308, 309, 310, 311, 312, 15, 64, 64, 15, 169, 169, 210, 210, 193, 313, 314, 112, 315, 316, 193, 112, 317, 318, 53, 319, 320, 53, 321, 322, 323, 103, 324, 233, 103, 233, 227, 325, 326, 327, 5, 227, 328, 5, 329, 330, 331, 332, 333, 334, 335, 336, 337, 338, 61, 61, 339, 340, 98, 341, 342, 343, 344, 345, 346, 98, 108, 347, 348, 108, 349, 350, 36, 2, 2, 13, 351, 13, 36, 352, 206, 206, 54, 353, 354, 54, 355, 356, 357, 358, 27, 27, 55, 55, 359, 113, 360, 361, 362, 180, 113, 363, 364, 180, 365, 366, 1, 1, 1, 367, 368, 110, 110, 369, 370, 371, 80, 80, 372, 373, 374, 375, 121, 376, 121, 377, 121, 156, 18, 378, 156, 379, 156, 18, 156, 380, 18, 238, 238, 381, 382, 383, 384, 79, 79, 79, 164, 164, 207, 207, 78, 78, 385, 198, 198, 198, 198, 386, 387, 198, 388, 389, 32, 32, 57, 57, 175, 175, 151, 151, 212, 212, 43, 43, 390, 83, 35, 391, 83, 35, 392, 94, 393, 94, 394, 395, 72, 72, 396, 397, 107, 398, 107, 399, 44, 44, 44, 114, 400, 8, 114, 8, 25, 401, 402, 205, 403, 404, 25, 184, 405, 406, 407, 408, 409, 205, 184, 410, 411, 38, 38, 26, 26, 26, 52, 52, 115, 412, 115, 413, 414, 415, 119, 62, 119, 62, 158, 158, 10, 10, 177, 58, 177, 416, 192, 417, 418, 419, 200, 420, 200, 421, 58, 192, 422, 223, 223, 234, 234, 423, 424, 34, 425, 34, 426, 427, 51, 51, 428, 429, 430, 431, 432, 433, 16, 434, 435, 16, 436, 437, 438, 439, 440, 441, 442, 443, 60, 228, 228, 60, 444, 445, 446, 447, 139, 139, 154, 448, 145, 154, 145, 449, 0, 0, 217, 217, 450, 451, 120, 120, 96, 96, 96, 104, 452, 104, 453, 28, 454, 28, 197, 455, 456, 197, 457, 183, 91, 183, 88, 88, 91, 458, 459, 460, 11, 461, 11, 11, 462, 21, 463, 21, 21, 21, 464, 465, 466, 467, 468, 131, 469, 131, 127, 470, 471, 472, 127, 473, 127, 127, 474, 475, 476, 477, 478, 479, 480, 76, 41, 140, 41, 140, 76, 101, 6, 481, 6, 482, 101, 40, 40]\n",
      "round2_merged_new [71, 235, 235, 71, 204, 204, 75, 186, 186, 75, 75, 483, 165, 181, 84, 84, 181, 141, 181, 229, 165, 229, 141, 17, 484, 485, 17, 486, 211, 211, 211, 487, 24, 89, 24, 24, 488, 89, 90, 182, 489, 182, 90, 65, 155, 65, 155, 65, 7, 166, 230, 230, 208, 490, 7, 208, 491, 230, 166, 216, 191, 216, 191, 157, 157, 190, 190, 105, 492, 136, 105, 136, 106, 95, 95, 106, 236, 236, 236, 236, 56, 56, 493, 56, 152, 152, 73, 73, 221, 161, 161, 226, 494, 221, 226, 202, 100, 202, 100, 167, 9, 9, 167, 15, 494, 495, 15, 169, 169, 210, 210, 496, 93, 93, 3, 3, 86, 86, 497, 147, 147, 53, 126, 126, 53, 126, 12, 132, 498, 12, 499, 500, 132, 501, 59, 222, 222, 5, 222, 59, 5, 196, 196, 225, 225, 117, 87, 218, 218, 117, 87, 61, 61, 137, 137, 98, 99, 39, 99, 189, 189, 39, 98, 502, 144, 122, 144, 122, 122, 36, 2, 2, 13, 46, 13, 36, 46, 206, 206, 194, 23, 194, 194, 23, 70, 70, 23, 27, 27, 55, 55, 178, 503, 29, 69, 69, 504, 505, 29, 178, 506, 187, 187, 1, 1, 1, 195, 195, 507, 508, 146, 146, 153, 80, 80, 37, 37, 153, 172, 172, 92, 172, 92, 509, 30, 18, 116, 510, 30, 30, 18, 511, 116, 18, 238, 238, 209, 209, 123, 123, 79, 79, 79, 164, 164, 207, 207, 78, 78, 74, 198, 198, 198, 198, 74, 213, 198, 213, 97, 97, 512, 57, 57, 175, 175, 151, 151, 513, 514, 43, 43, 67, 83, 67, 173, 83, 515, 173, 516, 134, 134, 188, 22, 517, 518, 22, 188, 519, 135, 520, 135, 44, 44, 44, 114, 47, 521, 114, 47, 522, 138, 138, 523, 179, 45, 179, 184, 111, 111, 45, 224, 224, 524, 184, 224, 162, 525, 162, 526, 215, 215, 527, 528, 115, 148, 115, 148, 68, 68, 529, 62, 530, 62, 531, 532, 10, 10, 533, 534, 535, 63, 176, 124, 63, 124, 200, 176, 200, 219, 219, 536, 220, 14, 537, 538, 220, 14, 42, 539, 42, 540, 171, 171, 541, 542, 237, 237, 203, 159, 159, 170, 16, 203, 170, 16, 109, 109, 48, 49, 49, 20, 48, 20, 60, 543, 544, 60, 31, 31, 133, 133, 545, 546, 547, 81, 145, 548, 145, 81, 0, 0, 217, 217, 160, 160, 120, 120, 96, 96, 96, 549, 185, 185, 231, 28, 231, 28, 550, 4, 4, 551, 143, 183, 552, 183, 553, 143, 168, 168, 102, 102, 118, 118, 118, 554, 129, 555, 128, 128, 128, 128, 129, 214, 214, 150, 50, 556, 50, 150, 82, 201, 149, 77, 82, 77, 557, 82, 163, 82, 163, 201, 19, 19, 149, 558, 41, 140, 41, 140, 559, 101, 560, 125, 561, 125, 101, 562, 563]\n",
      "\n",
      "Compared one by one ['239|71', '240|235', '241|235', '242|71', '243|204', '244|204', '245|75', '186|186', '186|186', '246|75', '247|75', '199|483', '199|165', '248|181', '249|84', '250|84', '251|181', '252|141', '253|181', '254|229', '255|165', '256|229', '257|141', '66|17', '232|484', '66|485', '66|17', '232|486', '258|211', '259|211', '33|211', '33|487', '142|24', '89|89', '260|24', '261|24', '142|488', '89|89', '262|90', '263|182', '142|489', '264|182', '265|90', '266|65', '267|155', '268|65', '269|155', '270|65', '271|7', '272|166', '273|230', '274|230', '275|208', '85|490', '276|7', '277|208', '85|491', '278|230', '279|166', '280|216', '281|191', '282|216', '283|191', '284|157', '285|157', '286|190', '287|190', '288|105', '174|492', '289|136', '174|105', '290|136', '291|106', '95|95', '95|95', '292|106', '293|236', '294|236', '295|236', '296|236', '297|56', '130|56', '130|493', '130|56', '298|152', '299|152', '300|73', '301|73', '302|221', '161|161', '161|161', '226|226', '303|494', '304|221', '226|226', '305|202', '306|100', '307|202', '308|100', '309|167', '310|9', '311|9', '312|167', '15|15', '64|494', '64|495', '15|15', '169|169', '169|169', '210|210', '210|210', '193|496', '313|93', '314|93', '112|3', '315|3', '316|86', '193|86', '112|497', '317|147', '318|147', '53|53', '319|126', '320|126', '53|53', '321|126', '322|12', '323|132', '103|498', '324|12', '233|499', '103|500', '233|132', '227|501', '325|59', '326|222', '327|222', '5|5', '227|222', '328|59', '5|5', '329|196', '330|196', '331|225', '332|225', '333|117', '334|87', '335|218', '336|218', '337|117', '338|87', '61|61', '61|61', '339|137', '340|137', '98|98', '341|99', '342|39', '343|99', '344|189', '345|189', '346|39', '98|98', '108|502', '347|144', '348|122', '108|144', '349|122', '350|122', '36|36', '2|2', '2|2', '13|13', '351|46', '13|13', '36|36', '352|46', '206|206', '206|206', '54|194', '353|23', '354|194', '54|194', '355|23', '356|70', '357|70', '358|23', '27|27', '27|27', '55|55', '55|55', '359|178', '113|503', '360|29', '361|69', '362|69', '180|504', '113|505', '363|29', '364|178', '180|506', '365|187', '366|187', '1|1', '1|1', '1|1', '367|195', '368|195', '110|507', '110|508', '369|146', '370|146', '371|153', '80|80', '80|80', '372|37', '373|37', '374|153', '375|172', '121|172', '376|92', '121|172', '377|92', '121|509', '156|30', '18|18', '378|116', '156|510', '379|30', '156|30', '18|18', '156|511', '380|116', '18|18', '238|238', '238|238', '381|209', '382|209', '383|123', '384|123', '79|79', '79|79', '79|79', '164|164', '164|164', '207|207', '207|207', '78|78', '78|78', '385|74', '198|198', '198|198', '198|198', '198|198', '386|74', '387|213', '198|198', '388|213', '389|97', '32|97', '32|512', '57|57', '57|57', '175|175', '175|175', '151|151', '151|151', '212|513', '212|514', '43|43', '43|43', '390|67', '83|83', '35|67', '391|173', '83|83', '35|515', '392|173', '94|516', '393|134', '94|134', '394|188', '395|22', '72|517', '72|518', '396|22', '397|188', '107|519', '398|135', '107|520', '399|135', '44|44', '44|44', '44|44', '114|114', '400|47', '8|521', '114|114', '8|47', '25|522', '401|138', '402|138', '205|523', '403|179', '404|45', '25|179', '184|184', '405|111', '406|111', '407|45', '408|224', '409|224', '205|524', '184|184', '410|224', '411|162', '38|525', '38|162', '26|526', '26|215', '26|215', '52|527', '52|528', '115|115', '412|148', '115|115', '413|148', '414|68', '415|68', '119|529', '62|62', '119|530', '62|62', '158|531', '158|532', '10|10', '10|10', '177|533', '58|534', '177|535', '416|63', '192|176', '417|124', '418|63', '419|124', '200|200', '420|176', '200|200', '421|219', '58|219', '192|536', '422|220', '223|14', '223|537', '234|538', '234|220', '423|14', '424|42', '34|539', '425|42', '34|540', '426|171', '427|171', '51|541', '51|542', '428|237', '429|237', '430|203', '431|159', '432|159', '433|170', '16|16', '434|203', '435|170', '16|16', '436|109', '437|109', '438|48', '439|49', '440|49', '441|20', '442|48', '443|20', '60|60', '228|543', '228|544', '60|60', '444|31', '445|31', '446|133', '447|133', '139|545', '139|546', '154|547', '448|81', '145|145', '154|548', '145|145', '449|81', '0|0', '0|0', '217|217', '217|217', '450|160', '451|160', '120|120', '120|120', '96|96', '96|96', '96|96', '104|549', '452|185', '104|185', '453|231', '28|28', '454|231', '28|28', '197|550', '455|4', '456|4', '197|551', '457|143', '183|183', '91|552', '183|183', '88|553', '88|143', '91|168', '458|168', '459|102', '460|102', '11|118', '461|118', '11|118', '11|554', '462|129', '21|555', '463|128', '21|128', '21|128', '21|128', '464|129', '465|214', '466|214', '467|150', '468|50', '131|556', '469|50', '131|150', '127|82', '470|201', '471|149', '472|77', '127|82', '473|77', '127|557', '127|82', '474|163', '475|82', '476|163', '477|201', '478|19', '479|19', '480|149', '76|558', '41|41', '140|140', '41|41', '140|140', '76|559', '101|101', '6|560', '481|125', '6|561', '482|125', '101|101', '40|562', '40|563']\n",
      "\n",
      " [[0. 1. 1. ... 1. 1. 1.]\n",
      " [1. 0. 1. ... 1. 1. 1.]\n",
      " [1. 1. 0. ... 1. 1. 1.]\n",
      " ...\n",
      " [1. 1. 1. ... 0. 1. 1.]\n",
      " [1. 1. 1. ... 1. 0. 1.]\n",
      " [1. 1. 1. ... 1. 1. 0.]]\n"
     ]
    }
   ],
   "source": [
    "print(\"The canonical form of reliability data:\")\n",
    "for annotator, row in zip([ann for ann, _ in annotator_output_dict.items()],reliability_data):\n",
    "    print(annotator, row)\n",
    "\n",
    "print(\"\\nCompared one by one\",[f\"{i}|{j}\" for i,j in zip(reliability_data[0],reliability_data[1])])\n",
    "\n",
    "print(\"\\n\",weights_np)"
   ]
  }
 ],
 "metadata": {
  "kernelspec": {
   "display_name": "Python 3.9.12 ('corenlp')",
   "language": "python",
   "name": "python3"
  },
  "language_info": {
   "codemirror_mode": {
    "name": "ipython",
    "version": 3
   },
   "file_extension": ".py",
   "mimetype": "text/x-python",
   "name": "python",
   "nbconvert_exporter": "python",
   "pygments_lexer": "ipython3",
   "version": "3.9.16"
  },
  "orig_nbformat": 4,
  "vscode": {
   "interpreter": {
    "hash": "bb6968a69f778f9e728e35b65cd79a0dbef5b20465434381676f63f710dc4a24"
   }
  }
 },
 "nbformat": 4,
 "nbformat_minor": 2
}
